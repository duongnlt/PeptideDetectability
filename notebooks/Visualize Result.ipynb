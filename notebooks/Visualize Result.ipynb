{
 "cells": [
  {
   "cell_type": "code",
   "execution_count": null,
   "metadata": {},
   "outputs": [],
   "source": [
    "fr"
   ]
  }
 ],
 "metadata": {
  "interpreter": {
   "hash": "4211caad632ec0a8bbc2ec9f4b1d6d5e4e0fdeff0f7b8422cc600d99a520fdda"
  },
  "kernelspec": {
   "display_name": "Python 3.6.13 64-bit ('ML': conda)",
   "language": "python",
   "name": "python3"
  },
  "language_info": {
   "name": "python",
   "version": "3.6.13"
  },
  "orig_nbformat": 4
 },
 "nbformat": 4,
 "nbformat_minor": 2
}
